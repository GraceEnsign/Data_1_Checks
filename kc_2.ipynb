{
 "cells": [
  {
   "cell_type": "code",
   "execution_count": 1,
   "id": "116d3c1a",
   "metadata": {},
   "outputs": [],
   "source": [
    "import matplotlib.pyplot as plt\n",
    "import pandas as pd\n",
    "import numpy as np"
   ]
  },
  {
   "cell_type": "code",
   "execution_count": 11,
   "id": "5d0f1a7e",
   "metadata": {
    "scrolled": true
   },
   "outputs": [
    {
     "data": {
      "text/html": [
       "<div>\n",
       "<style scoped>\n",
       "    .dataframe tbody tr th:only-of-type {\n",
       "        vertical-align: middle;\n",
       "    }\n",
       "\n",
       "    .dataframe tbody tr th {\n",
       "        vertical-align: top;\n",
       "    }\n",
       "\n",
       "    .dataframe thead th {\n",
       "        text-align: right;\n",
       "    }\n",
       "</style>\n",
       "<table border=\"1\" class=\"dataframe\">\n",
       "  <thead>\n",
       "    <tr style=\"text-align: right;\">\n",
       "      <th></th>\n",
       "      <th>Mountain</th>\n",
       "      <th>Metres</th>\n",
       "      <th>Feet</th>\n",
       "      <th>Range</th>\n",
       "      <th>Location</th>\n",
       "    </tr>\n",
       "  </thead>\n",
       "  <tbody>\n",
       "    <tr>\n",
       "      <th>0</th>\n",
       "      <td>Mount Everest</td>\n",
       "      <td>8848.00</td>\n",
       "      <td>29029</td>\n",
       "      <td>Himalayas</td>\n",
       "      <td>Nepal/China</td>\n",
       "    </tr>\n",
       "    <tr>\n",
       "      <th>1</th>\n",
       "      <td>K2</td>\n",
       "      <td>8612.00</td>\n",
       "      <td>28255</td>\n",
       "      <td>Karakoram</td>\n",
       "      <td>Pakistan/China</td>\n",
       "    </tr>\n",
       "    <tr>\n",
       "      <th>2</th>\n",
       "      <td>Kangchenjunga</td>\n",
       "      <td>8586.00</td>\n",
       "      <td>28169</td>\n",
       "      <td>Himalayas</td>\n",
       "      <td>Nepal/India</td>\n",
       "    </tr>\n",
       "    <tr>\n",
       "      <th>3</th>\n",
       "      <td>Lhotse</td>\n",
       "      <td>8516.00</td>\n",
       "      <td>27940</td>\n",
       "      <td>Himalayas</td>\n",
       "      <td>Nepal – Climbers ascend Lhotse Face in climbin...</td>\n",
       "    </tr>\n",
       "    <tr>\n",
       "      <th>4</th>\n",
       "      <td>Makalu</td>\n",
       "      <td>8485.00</td>\n",
       "      <td>27838</td>\n",
       "      <td>Himalayas</td>\n",
       "      <td>Nepal</td>\n",
       "    </tr>\n",
       "    <tr>\n",
       "      <th>...</th>\n",
       "      <td>...</td>\n",
       "      <td>...</td>\n",
       "      <td>...</td>\n",
       "      <td>...</td>\n",
       "      <td>...</td>\n",
       "    </tr>\n",
       "    <tr>\n",
       "      <th>1640</th>\n",
       "      <td>Mount Pleasant</td>\n",
       "      <td>5.00</td>\n",
       "      <td>16</td>\n",
       "      <td></td>\n",
       "      <td>Texas, US – Shortest Mountain in Texas</td>\n",
       "    </tr>\n",
       "    <tr>\n",
       "      <th>1641</th>\n",
       "      <td>Mount Tenpō</td>\n",
       "      <td>4.53</td>\n",
       "      <td>15</td>\n",
       "      <td></td>\n",
       "      <td>Osaka, Japan</td>\n",
       "    </tr>\n",
       "    <tr>\n",
       "      <th>1642</th>\n",
       "      <td>Tianzhong Mountain</td>\n",
       "      <td>3.60</td>\n",
       "      <td>12</td>\n",
       "      <td></td>\n",
       "      <td>Henan Province, China</td>\n",
       "    </tr>\n",
       "    <tr>\n",
       "      <th>1643</th>\n",
       "      <td>Mount Hiroyama</td>\n",
       "      <td>3.00</td>\n",
       "      <td>10</td>\n",
       "      <td></td>\n",
       "      <td>Sendai, Japan – Shortest Mountain in Japan</td>\n",
       "    </tr>\n",
       "    <tr>\n",
       "      <th>1644</th>\n",
       "      <td>Jing Mountain [yue]</td>\n",
       "      <td>0.60</td>\n",
       "      <td>2</td>\n",
       "      <td></td>\n",
       "      <td>Shandong Province, China – Shortest Mountain i...</td>\n",
       "    </tr>\n",
       "  </tbody>\n",
       "</table>\n",
       "<p>1645 rows × 5 columns</p>\n",
       "</div>"
      ],
      "text/plain": [
       "                 Mountain   Metres   Feet        Range  \\\n",
       "0           Mount Everest  8848.00  29029  Himalayas     \n",
       "1                      K2  8612.00  28255  Karakoram     \n",
       "2           Kangchenjunga  8586.00  28169  Himalayas     \n",
       "3                  Lhotse  8516.00  27940  Himalayas     \n",
       "4                  Makalu  8485.00  27838  Himalayas     \n",
       "...                   ...      ...    ...          ...   \n",
       "1640       Mount Pleasant     5.00     16                \n",
       "1641          Mount Tenpō     4.53     15                \n",
       "1642   Tianzhong Mountain     3.60     12                \n",
       "1643       Mount Hiroyama     3.00     10                \n",
       "1644  Jing Mountain [yue]     0.60      2                \n",
       "\n",
       "                                               Location  \n",
       "0                                           Nepal/China  \n",
       "1                                        Pakistan/China  \n",
       "2                                           Nepal/India  \n",
       "3     Nepal – Climbers ascend Lhotse Face in climbin...  \n",
       "4                                                 Nepal  \n",
       "...                                                 ...  \n",
       "1640             Texas, US – Shortest Mountain in Texas  \n",
       "1641                                       Osaka, Japan  \n",
       "1642                              Henan Province, China  \n",
       "1643         Sendai, Japan – Shortest Mountain in Japan  \n",
       "1644  Shandong Province, China – Shortest Mountain i...  \n",
       "\n",
       "[1645 rows x 5 columns]"
      ]
     },
     "execution_count": 11,
     "metadata": {},
     "output_type": "execute_result"
    }
   ],
   "source": [
    "mountains = pd.read_csv(\"C:\\\\Users\\\\geens\\\\Desktop\\\\Python\\\\Mountain.csv\")\n",
    "mountains"
   ]
  },
  {
   "cell_type": "code",
   "execution_count": 13,
   "id": "781eb5aa",
   "metadata": {},
   "outputs": [
    {
     "data": {
      "text/plain": [
       "pandas.core.frame.DataFrame"
      ]
     },
     "execution_count": 13,
     "metadata": {},
     "output_type": "execute_result"
    }
   ],
   "source": [
    "type(mountains)"
   ]
  },
  {
   "cell_type": "code",
   "execution_count": 14,
   "id": "27ca6af4",
   "metadata": {},
   "outputs": [
    {
     "data": {
      "text/plain": [
       "Mountain     object\n",
       "Metres      float64\n",
       "Feet          int64\n",
       "Range        object\n",
       "Location     object\n",
       "dtype: object"
      ]
     },
     "execution_count": 14,
     "metadata": {},
     "output_type": "execute_result"
    }
   ],
   "source": [
    "mountains.dtypes"
   ]
  },
  {
   "cell_type": "code",
   "execution_count": 15,
   "id": "1bf2d501",
   "metadata": {},
   "outputs": [],
   "source": [
    "Name = mountains['Mountain']\n",
    "Height = mountains['Feet']"
   ]
  },
  {
   "cell_type": "code",
   "execution_count": 45,
   "id": "54ea38e9",
   "metadata": {},
   "outputs": [
    {
     "data": {
      "image/png": "[encoded data removed]",
      "text/plain": [
       "<Figure size 1080x576 with 1 Axes>"
      ]
     },
     "metadata": {
      "needs_background": "light"
     },
     "output_type": "display_data"
    }
   ],
   "source": [
    "plt.figure(figsize = (15,8))\n",
    "plt.bar(Name [0:10], Height [0:10], color = 'green')\n",
    "plt.xlabel('Name of Mountain')\n",
    "plt.ylabel('Height in Feet')\n",
    "plt.title('Top Ten Tallest Mountains')\n",
    "plt.ylim(25000, 30000)\n",
    "plt.show()"
   ]
  }
 ],
 "metadata": {
  "kernelspec": {
   "display_name": "Python 3 (ipykernel)",
   "language": "python",
   "name": "python3"
  },
  "language_info": {
   "codemirror_mode": {
    "name": "ipython",
    "version": 3
   },
   "file_extension": ".py",
   "mimetype": "text/x-python",
   "name": "python",
   "nbconvert_exporter": "python",
   "pygments_lexer": "ipython3",
   "version": "3.9.7"
  }
 },
 "nbformat": 4,
 "nbformat_minor": 5
}
